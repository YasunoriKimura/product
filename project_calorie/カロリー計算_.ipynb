{
  "nbformat": 4,
  "nbformat_minor": 0,
  "metadata": {
    "colab": {
      "name": "カロリー計算 .ipynb",
      "version": "0.3.2",
      "provenance": [],
      "collapsed_sections": [],
      "toc_visible": true
    },
    "kernelspec": {
      "name": "python3",
      "display_name": "Python 3"
    },
    "accelerator": "GPU"
  },
  "cells": [
    {
      "cell_type": "markdown",
      "metadata": {
        "id": "xchZANzygDOj",
        "colab_type": "text"
      },
      "source": [
        "#カロリーを簡単に表示をするアプリ"
      ]
    },
    {
      "cell_type": "markdown",
      "metadata": {
        "id": "sgta-JjJgMcm",
        "colab_type": "text"
      },
      "source": [
        "###まずは画像収集から\n",
        "flickrAPIを使用して画像収集をする"
      ]
    },
    {
      "cell_type": "code",
      "metadata": {
        "id": "HhMnYz36ONdj",
        "colab_type": "code",
        "colab": {}
      },
      "source": [
        "# Google ドライブをマウント\n",
        "from google.colab import drive\n",
        "drive.mount('/content/drive')"
      ],
      "execution_count": 0,
      "outputs": []
    },
    {
      "cell_type": "code",
      "metadata": {
        "id": "huxsD-5Q-WOs",
        "colab_type": "code",
        "outputId": "aac07c25-49a2-43e5-c845-b9553837b32a",
        "colab": {
          "base_uri": "https://localhost:8080/",
          "height": 51
        }
      },
      "source": [
        "%cd drive/My Drive/project_calorie\n",
        "!mkdir images"
      ],
      "execution_count": 0,
      "outputs": [
        {
          "output_type": "stream",
          "text": [
            "/content/drive/My Drive/project_calorie\n",
            "mkdir: cannot create directory ‘images’: File exists\n"
          ],
          "name": "stdout"
        }
      ]
    },
    {
      "cell_type": "code",
      "metadata": {
        "id": "zEMkvDgyYxnx",
        "colab_type": "code",
        "outputId": "0b08051f-775c-4fa2-ef69-1ff2d9704af0",
        "colab": {
          "base_uri": "https://localhost:8080/",
          "height": 292
        }
      },
      "source": [
        "!pip3 install flickrapi"
      ],
      "execution_count": 0,
      "outputs": [
        {
          "output_type": "stream",
          "text": [
            "Collecting flickrapi\n",
            "  Downloading https://files.pythonhosted.org/packages/76/d7/291b7f0f02cf0f59460f7bcc15192905b4c61e13b9fb9263ee86b0a5f647/flickrapi-2.4.0-py2.py3-none-any.whl\n",
            "Requirement already satisfied: requests>=2.2.1 in /usr/local/lib/python3.6/dist-packages (from flickrapi) (2.21.0)\n",
            "Collecting requests-toolbelt>=0.3.1 (from flickrapi)\n",
            "\u001b[?25l  Downloading https://files.pythonhosted.org/packages/60/ef/7681134338fc097acef8d9b2f8abe0458e4d87559c689a8c306d0957ece5/requests_toolbelt-0.9.1-py2.py3-none-any.whl (54kB)\n",
            "\u001b[K     |████████████████████████████████| 61kB 10.2MB/s \n",
            "\u001b[?25hRequirement already satisfied: requests-oauthlib>=0.4.0 in /usr/local/lib/python3.6/dist-packages (from flickrapi) (1.2.0)\n",
            "Requirement already satisfied: six>=1.5.2 in /usr/local/lib/python3.6/dist-packages (from flickrapi) (1.12.0)\n",
            "Requirement already satisfied: urllib3<1.25,>=1.21.1 in /usr/local/lib/python3.6/dist-packages (from requests>=2.2.1->flickrapi) (1.24.3)\n",
            "Requirement already satisfied: idna<2.9,>=2.5 in /usr/local/lib/python3.6/dist-packages (from requests>=2.2.1->flickrapi) (2.8)\n",
            "Requirement already satisfied: certifi>=2017.4.17 in /usr/local/lib/python3.6/dist-packages (from requests>=2.2.1->flickrapi) (2019.3.9)\n",
            "Requirement already satisfied: chardet<3.1.0,>=3.0.2 in /usr/local/lib/python3.6/dist-packages (from requests>=2.2.1->flickrapi) (3.0.4)\n",
            "Requirement already satisfied: oauthlib>=3.0.0 in /usr/local/lib/python3.6/dist-packages (from requests-oauthlib>=0.4.0->flickrapi) (3.0.1)\n",
            "Installing collected packages: requests-toolbelt, flickrapi\n",
            "Successfully installed flickrapi-2.4.0 requests-toolbelt-0.9.1\n"
          ],
          "name": "stdout"
        }
      ]
    },
    {
      "cell_type": "code",
      "metadata": {
        "id": "XZ7JPB6Mf9yK",
        "colab_type": "code",
        "colab": {}
      },
      "source": [
        "from flickrapi import FlickrAPI\n",
        "from urllib.request import urlretrieve\n",
        "from pprint import pprint\n",
        "import os, time, sys\n",
        "\n",
        "#APIキーとシークレットキー\n",
        "key = 'FlickrAPIのAPIキーを入れる'\n",
        "secret = 'FlickrAPIのシークレットキーを入れる'\n",
        "wait_time = 1\n",
        "\n",
        "def main():\n",
        "    go_download('マグロ寿司', 'sushi')\n",
        "    go_download('サラダ', 'salad')\n",
        "    go_download('麻婆豆腐', 'tofu')\n",
        "\n",
        "def go_download(keyword, dir):\n",
        "    savedir = './images/all_data/' + dir\n",
        "    if not os.path.exists(savedir):\n",
        "        os.mkdir(savedir)\n",
        "    \n",
        "    flickr = FlickrAPI(key, secret, format='parsed-json')\n",
        "    res = flickr.photos.search(\n",
        "        text = keyword,\n",
        "        per_page = 300,\n",
        "        media = 'photos',\n",
        "        sort = 'relevance',\n",
        "        extras = 'url_q, license')\n",
        "    \n",
        "    photos = res['photos']\n",
        "    pprint(photos)\n",
        "    \n",
        "    try:\n",
        "      # 1枚ずつ画像をダウンロード\n",
        "      for i, photo in enumerate(photos['photo']):\n",
        "        url_q = photo['url_q']\n",
        "        filepath = savedir + '/' + photo['id'] + '.jpg'\n",
        "        if os.path.exists(filepath): continue\n",
        "        print(str(i + 1) + \":download=\", url_q)\n",
        "        urlretrieve(url_q, filepath)\n",
        "        time.sleep(wait_time)\n",
        "    except:\n",
        "      import traceback\n",
        "      traceback.print_exc()\n",
        "\n",
        "if __name__ == '__main__':\n",
        "    main()\n"
      ],
      "execution_count": 0,
      "outputs": []
    },
    {
      "cell_type": "markdown",
      "metadata": {
        "id": "wEhR3w_ws6Q2",
        "colab_type": "text"
      },
      "source": [
        "###ダウンロードした画像を確認\n",
        "いらない画像は削除する。各種100枚にする<br>\n",
        "その後、<br>\n",
        "train 70枚<br>\n",
        "validation 20枚<br>\n",
        "test 10枚<br>\n",
        "に分ける\n"
      ]
    },
    {
      "cell_type": "code",
      "metadata": {
        "id": "f6SX1XFF7P8T",
        "colab_type": "code",
        "outputId": "488cf29b-7de0-4231-f1b3-e46ee19720cc",
        "colab": {
          "base_uri": "https://localhost:8080/",
          "height": 68
        }
      },
      "source": [
        "import glob, os\n",
        "\n",
        "dir_list = os.listdir('./images/all_data')\n",
        "\n",
        "for d in dir_list:\n",
        "    path_list = glob.glob('./images/all_data/' + d + '/*')\n",
        "    print(d, len(path_list))"
      ],
      "execution_count": 0,
      "outputs": [
        {
          "output_type": "stream",
          "text": [
            "sushi 100\n",
            "salad 100\n",
            "tofu 100\n"
          ],
          "name": "stdout"
        }
      ]
    },
    {
      "cell_type": "markdown",
      "metadata": {
        "id": "gnQ8U_ID4FuA",
        "colab_type": "text"
      },
      "source": [
        "#### train,validation,testディレクトリを作り、画像をコピー"
      ]
    },
    {
      "cell_type": "code",
      "metadata": {
        "id": "vau4iMLH_gnG",
        "colab_type": "code",
        "colab": {}
      },
      "source": [
        "import shutil\n",
        "\n",
        "original_dataset_dir = './images/all_data'\n",
        "base_dir = './images'\n",
        "\n",
        "train_dir = os.path.join(base_dir, 'train')\n",
        "os.mkdir(train_dir)\n",
        "validation_dir = os.path.join(base_dir, 'validation')\n",
        "os.mkdir(validation_dir)\n",
        "test_dir = os.path.join(base_dir, 'test')\n",
        "os.mkdir(test_dir)\n",
        "\n",
        "#trainデータ\n",
        "train_salad_dir = os.path.join(train_dir, 'salad')\n",
        "os.mkdir(train_salad_dir)\n",
        "train_sushi_dir = os.path.join(train_dir, 'sushi')\n",
        "os.mkdir(train_sushi_dir)\n",
        "train_tofu_dir = os.path.join(train_dir, 'tofu')\n",
        "os.mkdir(train_tofu_dir)\n",
        "\n",
        "#validationデータ\n",
        "validation_salad_dir = os.path.join(validation_dir, 'salad')\n",
        "os.mkdir(validation_salad_dir)\n",
        "validation_sushi_dir = os.path.join(validation_dir, 'sushi')\n",
        "os.mkdir(validation_sushi_dir)\n",
        "validation_tofu_dir = os.path.join(validation_dir, 'tofu')\n",
        "os.mkdir(validation_tofu_dir)\n",
        "\n",
        "#testデータ\n",
        "test_salad_dir = os.path.join(test_dir, 'salad')\n",
        "os.mkdir(test_salad_dir)\n",
        "test_sushi_dir = os.path.join(test_dir, 'sushi')\n",
        "os.mkdir(test_sushi_dir)\n",
        "test_tofu_dir = os.path.join(test_dir, 'tofu')\n",
        "os.mkdir(test_tofu_dir)\n",
        "\n",
        "#saladデータをtrain,validation,testに分ける\n",
        "fnames = os.listdir(os.path.join(original_dataset_dir, 'salad'))[0:70]\n",
        "for fname in fnames:\n",
        "    src = os.path.join(original_dataset_dir, 'salad', fname)\n",
        "    dst = os.path.join(train_salad_dir, fname)\n",
        "    shutil.copyfile(src, dst)\n",
        "\n",
        "fnames = os.listdir(os.path.join(original_dataset_dir, 'salad'))[70:90]\n",
        "for fname in fnames:\n",
        "    src = os.path.join(original_dataset_dir, 'salad', fname)\n",
        "    dst = os.path.join(validation_salad_dir, fname)\n",
        "    shutil.copyfile(src, dst)\n",
        "\n",
        "fnames = os.listdir(os.path.join(original_dataset_dir, 'salad'))[90:100]\n",
        "for fname in fnames:\n",
        "    src = os.path.join(original_dataset_dir, 'salad', fname)\n",
        "    dst = os.path.join(test_salad_dir, fname)\n",
        "    shutil.copyfile(src, dst)\n",
        "\n",
        "\n",
        "#sushiデータをtrain,validation,testに分ける\n",
        "fnames = os.listdir(os.path.join(original_dataset_dir, 'sushi'))[0:70]\n",
        "for fname in fnames:\n",
        "    src = os.path.join(original_dataset_dir, 'sushi', fname)\n",
        "    dst = os.path.join(train_sushi_dir, fname)\n",
        "    shutil.copyfile(src, dst)\n",
        "\n",
        "fnames = os.listdir(os.path.join(original_dataset_dir, 'sushi'))[70:90]\n",
        "for fname in fnames:\n",
        "    src = os.path.join(original_dataset_dir, 'sushi', fname)\n",
        "    dst = os.path.join(validation_sushi_dir, fname)\n",
        "    shutil.copyfile(src, dst)\n",
        "\n",
        "fnames = os.listdir(os.path.join(original_dataset_dir, 'sushi'))[90:100]\n",
        "for fname in fnames:\n",
        "    src = os.path.join(original_dataset_dir, 'sushi', fname)\n",
        "    dst = os.path.join(test_sushi_dir, fname)\n",
        "    shutil.copyfile(src, dst)\n",
        "    \n",
        "\n",
        "#tofuデータをtrain,validation,testに分ける\n",
        "fnames = os.listdir(os.path.join(original_dataset_dir, 'tofu'))[0:70]\n",
        "for fname in fnames:\n",
        "    src = os.path.join(original_dataset_dir, 'tofu', fname)\n",
        "    dst = os.path.join(train_tofu_dir, fname)\n",
        "    shutil.copyfile(src, dst)\n",
        "\n",
        "fnames = os.listdir(os.path.join(original_dataset_dir, 'tofu'))[70:90]\n",
        "for fname in fnames:\n",
        "    src = os.path.join(original_dataset_dir, 'tofu', fname)\n",
        "    dst = os.path.join(validation_tofu_dir, fname)\n",
        "    shutil.copyfile(src, dst)\n",
        "\n",
        "fnames = os.listdir(os.path.join(original_dataset_dir, 'tofu'))[90:100]\n",
        "for fname in fnames:\n",
        "    src = os.path.join(original_dataset_dir, 'tofu', fname)\n",
        "    dst = os.path.join(test_tofu_dir, fname)\n",
        "    shutil.copyfile(src, dst)"
      ],
      "execution_count": 0,
      "outputs": []
    },
    {
      "cell_type": "code",
      "metadata": {
        "id": "YhQHy3bVFgZh",
        "colab_type": "code",
        "outputId": "a29fb50b-d865-4bb6-e683-904187f0a8ec",
        "colab": {
          "base_uri": "https://localhost:8080/",
          "height": 170
        }
      },
      "source": [
        "#枚数を確認\n",
        "print('train_salad', len(os.listdir('./images/train/salad')))\n",
        "print('train_sushi', len(os.listdir('./images/train/sushi')))\n",
        "print('train_tofu', len(os.listdir('./images/train/tofu')))\n",
        "print('validation_salad', len(os.listdir('./images/validation/salad')))\n",
        "print('validation_sushi', len(os.listdir('./images/validation/sushi')))\n",
        "print('validation_tofu', len(os.listdir('./images/validation/tofu')))\n",
        "print('test_salad', len(os.listdir('./images/test/salad')))\n",
        "print('test_sushi', len(os.listdir('./images/test/sushi')))\n",
        "print('test_tofu', len(os.listdir('./images/test/tofu')))"
      ],
      "execution_count": 0,
      "outputs": [
        {
          "output_type": "stream",
          "text": [
            "train_salad 70\n",
            "train_sushi 70\n",
            "train_tofu 70\n",
            "validation_salad 20\n",
            "validation_sushi 20\n",
            "validation_tofu 20\n",
            "test_salad 10\n",
            "test_sushi 10\n",
            "test_tofu 10\n"
          ],
          "name": "stdout"
        }
      ]
    },
    {
      "cell_type": "markdown",
      "metadata": {
        "id": "fCl0JrPFRUyi",
        "colab_type": "text"
      },
      "source": [
        "### モデルを定義"
      ]
    },
    {
      "cell_type": "code",
      "metadata": {
        "id": "I8R-4d3eR-eb",
        "colab_type": "code",
        "outputId": "6086c43e-8156-4d7a-8a11-521629b103e0",
        "colab": {
          "base_uri": "https://localhost:8080/",
          "height": 544
        }
      },
      "source": [
        "import keras\n",
        "from keras.models import Sequential\n",
        "from keras.layers import Dense, Dropout, Flatten\n",
        "from keras.layers import Conv2D, MaxPooling2D\n",
        "from keras.optimizers import RMSprop\n",
        "\n",
        "model = Sequential()\n",
        "model.add(Conv2D(32,\n",
        "          kernel_size=(3, 3),\n",
        "          activation='relu',\n",
        "          input_shape=(32, 32, 3)))\n",
        "model.add(Conv2D(32, (3, 3), activation='relu'))\n",
        "model.add(MaxPooling2D(pool_size=(2, 2)))\n",
        "model.add(Dropout(0.25))\n",
        "model.add(Conv2D(64, (3, 3), activation='relu'))\n",
        "model.add(Conv2D(64, (3, 3), activation='relu'))\n",
        "model.add(MaxPooling2D(pool_size=(2, 2)))\n",
        "model.add(Dropout(0.25))\n",
        "model.add(Flatten())\n",
        "model.add(Dense(512, activation='relu'))\n",
        "model.add(Dropout(0.5))\n",
        "model.add(Dense(3, activation='softmax'))\n",
        "\n",
        "model.compile(\n",
        "    loss='categorical_crossentropy',\n",
        "    optimizer=RMSprop(),\n",
        "    metrics=['accuracy'])\n",
        "\n",
        "model.summary()"
      ],
      "execution_count": 0,
      "outputs": [
        {
          "output_type": "stream",
          "text": [
            "_________________________________________________________________\n",
            "Layer (type)                 Output Shape              Param #   \n",
            "=================================================================\n",
            "conv2d_9 (Conv2D)            (None, 30, 30, 32)        896       \n",
            "_________________________________________________________________\n",
            "conv2d_10 (Conv2D)           (None, 28, 28, 32)        9248      \n",
            "_________________________________________________________________\n",
            "max_pooling2d_5 (MaxPooling2 (None, 14, 14, 32)        0         \n",
            "_________________________________________________________________\n",
            "dropout_7 (Dropout)          (None, 14, 14, 32)        0         \n",
            "_________________________________________________________________\n",
            "conv2d_11 (Conv2D)           (None, 12, 12, 64)        18496     \n",
            "_________________________________________________________________\n",
            "conv2d_12 (Conv2D)           (None, 10, 10, 64)        36928     \n",
            "_________________________________________________________________\n",
            "max_pooling2d_6 (MaxPooling2 (None, 5, 5, 64)          0         \n",
            "_________________________________________________________________\n",
            "dropout_8 (Dropout)          (None, 5, 5, 64)          0         \n",
            "_________________________________________________________________\n",
            "flatten_3 (Flatten)          (None, 1600)              0         \n",
            "_________________________________________________________________\n",
            "dense_5 (Dense)              (None, 512)               819712    \n",
            "_________________________________________________________________\n",
            "dropout_9 (Dropout)          (None, 512)               0         \n",
            "_________________________________________________________________\n",
            "dense_6 (Dense)              (None, 3)                 1539      \n",
            "=================================================================\n",
            "Total params: 886,819\n",
            "Trainable params: 886,819\n",
            "Non-trainable params: 0\n",
            "_________________________________________________________________\n"
          ],
          "name": "stdout"
        }
      ]
    },
    {
      "cell_type": "markdown",
      "metadata": {
        "id": "cY6WsvDT4g4s",
        "colab_type": "text"
      },
      "source": [
        "### 水増し+学習"
      ]
    },
    {
      "cell_type": "code",
      "metadata": {
        "id": "CkwwuVXMyX71",
        "colab_type": "code",
        "outputId": "e1119b6b-726c-4643-c223-14bc24b766cc",
        "colab": {
          "base_uri": "https://localhost:8080/",
          "height": 751
        }
      },
      "source": [
        "from keras.preprocessing.image import ImageDataGenerator\n",
        "\n",
        "train_datagen = ImageDataGenerator(\n",
        "    rescale=1./255,\n",
        "    rotation_range=40,\n",
        "    width_shift_range=0.2,\n",
        "    height_shift_range=0.2,\n",
        "    shear_range=0.2,\n",
        "    zoom_range=0.2,\n",
        "    horizontal_flip=True,)\n",
        "\n",
        "test_datagen = ImageDataGenerator(rescale=1./255)\n",
        "\n",
        "train_generator = train_datagen.flow_from_directory(\n",
        "        train_dir,\n",
        "        target_size=(32, 32),\n",
        "        batch_size=32,\n",
        "        class_mode='categorical')\n",
        "\n",
        "validation_generator = test_datagen.flow_from_directory(\n",
        "        validation_dir,\n",
        "        target_size=(32, 32),\n",
        "        batch_size=32,\n",
        "        class_mode='categorical')\n",
        "\n",
        "history = model.fit_generator(\n",
        "      train_generator,\n",
        "      steps_per_epoch=100,\n",
        "      epochs=20,\n",
        "      validation_data=validation_generator,\n",
        "      validation_steps=50)"
      ],
      "execution_count": 0,
      "outputs": [
        {
          "output_type": "stream",
          "text": [
            "Found 210 images belonging to 3 classes.\n",
            "Found 60 images belonging to 3 classes.\n",
            "Epoch 1/20\n",
            "100/100 [==============================] - 12s 123ms/step - loss: 0.9609 - acc: 0.5367 - val_loss: 0.9826 - val_acc: 0.5500\n",
            "Epoch 2/20\n",
            "100/100 [==============================] - 11s 111ms/step - loss: 0.6906 - acc: 0.7360 - val_loss: 0.5763 - val_acc: 0.7333\n",
            "Epoch 3/20\n",
            "100/100 [==============================] - 11s 110ms/step - loss: 0.5560 - acc: 0.7902 - val_loss: 0.4860 - val_acc: 0.8333\n",
            "Epoch 4/20\n",
            "100/100 [==============================] - 11s 110ms/step - loss: 0.5033 - acc: 0.8078 - val_loss: 0.5782 - val_acc: 0.8167\n",
            "Epoch 5/20\n",
            "100/100 [==============================] - 11s 110ms/step - loss: 0.4289 - acc: 0.8356 - val_loss: 0.4101 - val_acc: 0.8667\n",
            "Epoch 6/20\n",
            "100/100 [==============================] - 12s 118ms/step - loss: 0.3733 - acc: 0.8572 - val_loss: 0.6481 - val_acc: 0.8167\n",
            "Epoch 7/20\n",
            "100/100 [==============================] - 11s 110ms/step - loss: 0.3643 - acc: 0.8742 - val_loss: 0.9239 - val_acc: 0.7333\n",
            "Epoch 8/20\n",
            "100/100 [==============================] - 11s 111ms/step - loss: 0.3138 - acc: 0.8836 - val_loss: 0.3916 - val_acc: 0.8333\n",
            "Epoch 9/20\n",
            "100/100 [==============================] - 11s 111ms/step - loss: 0.2674 - acc: 0.9060 - val_loss: 0.6994 - val_acc: 0.8333\n",
            "Epoch 10/20\n",
            "100/100 [==============================] - 11s 110ms/step - loss: 0.2468 - acc: 0.9148 - val_loss: 1.3006 - val_acc: 0.7500\n",
            "Epoch 11/20\n",
            "100/100 [==============================] - 11s 111ms/step - loss: 0.2327 - acc: 0.9181 - val_loss: 0.7458 - val_acc: 0.8333\n",
            "Epoch 12/20\n",
            "100/100 [==============================] - 11s 110ms/step - loss: 0.2068 - acc: 0.9287 - val_loss: 0.9844 - val_acc: 0.7833\n",
            "Epoch 13/20\n",
            "100/100 [==============================] - 11s 110ms/step - loss: 0.1848 - acc: 0.9393 - val_loss: 0.5083 - val_acc: 0.9167\n",
            "Epoch 14/20\n",
            "100/100 [==============================] - 11s 113ms/step - loss: 0.1620 - acc: 0.9455 - val_loss: 0.8728 - val_acc: 0.8500\n",
            "Epoch 15/20\n",
            "100/100 [==============================] - 11s 110ms/step - loss: 0.1543 - acc: 0.9473 - val_loss: 0.7068 - val_acc: 0.8667\n",
            "Epoch 16/20\n",
            "100/100 [==============================] - 11s 112ms/step - loss: 0.1516 - acc: 0.9487 - val_loss: 2.3654 - val_acc: 0.6833\n",
            "Epoch 17/20\n",
            "100/100 [==============================] - 11s 110ms/step - loss: 0.1540 - acc: 0.9503 - val_loss: 0.6104 - val_acc: 0.8833\n",
            "Epoch 18/20\n",
            "100/100 [==============================] - 11s 109ms/step - loss: 0.1376 - acc: 0.9551 - val_loss: 0.6404 - val_acc: 0.9000\n",
            "Epoch 19/20\n",
            "100/100 [==============================] - 11s 110ms/step - loss: 0.1121 - acc: 0.9580 - val_loss: 0.6131 - val_acc: 0.8833\n",
            "Epoch 20/20\n",
            "100/100 [==============================] - 11s 110ms/step - loss: 0.1495 - acc: 0.9567 - val_loss: 0.4503 - val_acc: 0.9167\n"
          ],
          "name": "stdout"
        }
      ]
    },
    {
      "cell_type": "markdown",
      "metadata": {
        "id": "cBTC5tSL4u8r",
        "colab_type": "text"
      },
      "source": [
        "#### 重みを保存"
      ]
    },
    {
      "cell_type": "code",
      "metadata": {
        "id": "kG-y3ZoQur9g",
        "colab_type": "code",
        "colab": {}
      },
      "source": [
        "model.save('calorie_1.h5')"
      ],
      "execution_count": 0,
      "outputs": []
    },
    {
      "cell_type": "markdown",
      "metadata": {
        "id": "YRVmAk3L42uO",
        "colab_type": "text"
      },
      "source": [
        "### テスト"
      ]
    },
    {
      "cell_type": "code",
      "metadata": {
        "id": "aGy9Vb5xx_zw",
        "colab_type": "code",
        "colab": {}
      },
      "source": [
        "import cv2\n",
        "import numpy as np\n",
        "import matplotlib.pyplot as plt\n",
        "from PIL import Image\n",
        "\n",
        "labels = ['サラダ', '寿司', '麻婆豆腐']\n",
        "calories = [118, 588, 648 ]\n",
        "\n",
        "model.load_weights('calorie_1.h5')\n",
        "\n",
        "def check_photo(path):\n",
        "    img = Image.open(path)\n",
        "    img = img.convert('RGB')\n",
        "    img = img.resize((32, 32))\n",
        "    plt.imshow(img)\n",
        "    plt.show()\n",
        "    x = np.asarray(img)\n",
        "    x = x.reshape(-1, 32, 32, 3)\n",
        "    x = x / 255\n",
        "\n",
        "    pre = model.predict([x])[0]\n",
        "    idx = pre.argmax()\n",
        "    per = int(pre[idx]*100)\n",
        "    return (idx, per)\n",
        "\n",
        "def check_photo_str(path):\n",
        "    idx, per = check_photo(path)\n",
        "    print('この写真は、', labels[idx], 'で、カロリーは', calories[idx], 'kcal')\n",
        "    print('可能性は、', per, '％です。')"
      ],
      "execution_count": 0,
      "outputs": []
    },
    {
      "cell_type": "code",
      "metadata": {
        "id": "C1kJmQAVx_xP",
        "colab_type": "code",
        "outputId": "6653aca4-e122-478f-a06d-949d61bc2032",
        "colab": {
          "base_uri": "https://localhost:8080/",
          "height": 875
        }
      },
      "source": [
        "test_salad_list = glob.glob(test_salad_dir + '/*')\n",
        "test_sushi_list = glob.glob(test_sushi_dir + '/*')\n",
        "test_tofu_list = glob.glob(test_tofu_dir + '/*')\n",
        "\n",
        "check_photo_str(test_salad_list[0])\n",
        "check_photo_str(test_sushi_list[1])\n",
        "check_photo_str(test_tofu_list[2])"
      ],
      "execution_count": 0,
      "outputs": [
        {
          "output_type": "display_data",
          "data": {
            "image/png": "[encoded data removed]",
            "text/plain": [
              "<Figure size 432x288 with 1 Axes>"
            ]
          },
          "metadata": {
            "tags": []
          }
        },
        {
          "output_type": "stream",
          "text": [
            "この写真は、 サラダ で、カロリーは 118 kcal\n",
            "可能性は、 99 ％です。\n"
          ],
          "name": "stdout"
        },
        {
          "output_type": "display_data",
          "data": {
            "image/png": "[encoded data removed]",
            "text/plain": [
              "<Figure size 432x288 with 1 Axes>"
            ]
          },
          "metadata": {
            "tags": []
          }
        },
        {
          "output_type": "stream",
          "text": [
            "この写真は、 寿司 で、カロリーは 588 kcal\n",
            "可能性は、 99 ％です。\n"
          ],
          "name": "stdout"
        },
        {
          "output_type": "display_data",
          "data": {
            "image/png": "[encoded data removed]",
            "text/plain": [
              "<Figure size 432x288 with 1 Axes>"
            ]
          },
          "metadata": {
            "tags": []
          }
        },
        {
          "output_type": "stream",
          "text": [
            "この写真は、 麻婆豆腐 で、カロリーは 648 kcal\n",
            "可能性は、 100 ％です。\n"
          ],
          "name": "stdout"
        }
      ]
    }
  ]
}